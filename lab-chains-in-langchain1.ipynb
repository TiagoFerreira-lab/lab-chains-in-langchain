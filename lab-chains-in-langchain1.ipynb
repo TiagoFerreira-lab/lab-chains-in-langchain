{
 "cells": [
  {
   "cell_type": "markdown",
   "id": "52824b89-532a-4e54-87e9-1410813cd39e",
   "metadata": {},
   "source": [
    "# Lab | Chains in LangChain\n",
    "\n",
    "## Outline\n",
    "\n",
    "* LLMChain\n",
    "* Sequential Chains\n",
    "  * SimpleSequentialChain\n",
    "  * SequentialChain\n",
    "* Router Chain"
   ]
  },
  {
   "cell_type": "code",
   "execution_count": 1,
   "id": "541eb2f1",
   "metadata": {},
   "outputs": [],
   "source": [
    "import warnings\n",
    "warnings.filterwarnings('ignore')"
   ]
  },
  {
   "cell_type": "code",
   "execution_count": 2,
   "id": "b7ed03ed-1322-49e3-b2a2-33e94fb592ef",
   "metadata": {
    "tags": []
   },
   "outputs": [],
   "source": [
    "import os\n",
    "\n",
    "from dotenv import load_dotenv, find_dotenv\n",
    "_ = load_dotenv(find_dotenv())\n",
    "\n",
    "OPENAI_API_KEY  = os.getenv('OPENAI_API_KEY')\n",
    "HUGGINGFACEHUB_API_TOKEN = os.getenv('HUGGINGFACEHUB_API_TOKEN')"
   ]
  },
  {
   "cell_type": "code",
   "execution_count": 5,
   "id": "b84e441b",
   "metadata": {
    "tags": []
   },
   "outputs": [],
   "source": [
    "#!pip install pandas"
   ]
  },
  {
   "cell_type": "code",
   "execution_count": 3,
   "id": "974acf8e-8f88-42de-88f8-40a82cb58e8b",
   "metadata": {
    "tags": []
   },
   "outputs": [],
   "source": [
    "import pandas as pd\n",
    "df = pd.read_csv(r\"C:\\Users\\tiago\\OneDrive\\Ambiente de Trabalho\\NovaPasta\\lab-chains-in-langchain\\Data.csv\")"
   ]
  },
  {
   "cell_type": "code",
   "execution_count": 15,
   "id": "b7a09c35",
   "metadata": {
    "tags": []
   },
   "outputs": [
    {
     "data": {
      "text/html": [
       "<div>\n",
       "<style scoped>\n",
       "    .dataframe tbody tr th:only-of-type {\n",
       "        vertical-align: middle;\n",
       "    }\n",
       "\n",
       "    .dataframe tbody tr th {\n",
       "        vertical-align: top;\n",
       "    }\n",
       "\n",
       "    .dataframe thead th {\n",
       "        text-align: right;\n",
       "    }\n",
       "</style>\n",
       "<table border=\"1\" class=\"dataframe\">\n",
       "  <thead>\n",
       "    <tr style=\"text-align: right;\">\n",
       "      <th></th>\n",
       "      <th>Product</th>\n",
       "      <th>Review</th>\n",
       "    </tr>\n",
       "  </thead>\n",
       "  <tbody>\n",
       "    <tr>\n",
       "      <th>0</th>\n",
       "      <td>Queen Size Sheet Set</td>\n",
       "      <td>I ordered a king size set. My only criticism w...</td>\n",
       "    </tr>\n",
       "    <tr>\n",
       "      <th>1</th>\n",
       "      <td>Waterproof Phone Pouch</td>\n",
       "      <td>I loved the waterproof sac, although the openi...</td>\n",
       "    </tr>\n",
       "    <tr>\n",
       "      <th>2</th>\n",
       "      <td>Luxury Air Mattress</td>\n",
       "      <td>This mattress had a small hole in the top of i...</td>\n",
       "    </tr>\n",
       "    <tr>\n",
       "      <th>3</th>\n",
       "      <td>Pillows Insert</td>\n",
       "      <td>This is the best throw pillow fillers on Amazo...</td>\n",
       "    </tr>\n",
       "    <tr>\n",
       "      <th>4</th>\n",
       "      <td>Milk Frother Handheld\\n</td>\n",
       "      <td>I loved this product. But they only seem to l...</td>\n",
       "    </tr>\n",
       "  </tbody>\n",
       "</table>\n",
       "</div>"
      ],
      "text/plain": [
       "                   Product                                             Review\n",
       "0     Queen Size Sheet Set  I ordered a king size set. My only criticism w...\n",
       "1   Waterproof Phone Pouch  I loved the waterproof sac, although the openi...\n",
       "2      Luxury Air Mattress  This mattress had a small hole in the top of i...\n",
       "3           Pillows Insert  This is the best throw pillow fillers on Amazo...\n",
       "4  Milk Frother Handheld\\n   I loved this product. But they only seem to l..."
      ]
     },
     "execution_count": 15,
     "metadata": {},
     "output_type": "execute_result"
    }
   ],
   "source": [
    "df.head()"
   ]
  },
  {
   "cell_type": "markdown",
   "id": "b940ce7c",
   "metadata": {},
   "source": [
    "## LLMChain"
   ]
  },
  {
   "cell_type": "code",
   "execution_count": 4,
   "id": "e92dff22",
   "metadata": {
    "tags": []
   },
   "outputs": [],
   "source": [
    "from langchain_openai import ChatOpenAI\n",
    "from langchain.prompts import ChatPromptTemplate\n",
    "from langchain.chains import LLMChain"
   ]
  },
  {
   "cell_type": "code",
   "execution_count": 73,
   "id": "943237a7",
   "metadata": {},
   "outputs": [
    {
     "name": "stdout",
     "output_type": "stream",
     "text": [
      "gpt-3.5-turbo\n"
     ]
    }
   ],
   "source": [
    "#Replace None by your own value and justify ||| check whicht model are you using \n",
    "llm = ChatOpenAI(temperature=0.3)\n",
    "print(llm.model_name)"
   ]
  },
  {
   "cell_type": "markdown",
   "id": "20672336",
   "metadata": {},
   "source": [
    "### Justification: A lower temperature (0.3) is appropriate here because:\n",
    "\n",
    "You're likely performing analytical tasks on product reviews (sentiment analysis, summarization, etc.)\n",
    "For a learning exercise, more predictable outputs will make it easier to understand how the chains are working\n",
    "When working with structured data analysis, consistency in responses is generally more valuable than creativity"
   ]
  },
  {
   "cell_type": "code",
   "execution_count": 6,
   "id": "cdcdb42d",
   "metadata": {},
   "outputs": [],
   "source": [
    "prompt = ChatPromptTemplate.from_template( \"You are a product description expert. Given the product name {product}, provide a detailed description of what this product is, its common uses, key features customers might look for, and potential benefits. Be informative and helpful.\"\n",
    " \n",
    ")"
   ]
  },
  {
   "cell_type": "code",
   "execution_count": 7,
   "id": "d7abc20b",
   "metadata": {},
   "outputs": [
    {
     "name": "stderr",
     "output_type": "stream",
     "text": [
      "C:\\Users\\tiago\\AppData\\Local\\Temp\\ipykernel_27988\\546483037.py:1: LangChainDeprecationWarning: The class `LLMChain` was deprecated in LangChain 0.1.17 and will be removed in 1.0. Use :meth:`~RunnableSequence, e.g., `prompt | llm`` instead.\n",
      "  chain = LLMChain(llm=llm, prompt=prompt)\n"
     ]
    }
   ],
   "source": [
    "\n",
    "chain = LLMChain(llm=llm, prompt=prompt)"
   ]
  },
  {
   "cell_type": "code",
   "execution_count": 13,
   "id": "ad44d1fb",
   "metadata": {},
   "outputs": [
    {
     "name": "stderr",
     "output_type": "stream",
     "text": [
      "C:\\Users\\tiago\\AppData\\Local\\Temp\\ipykernel_16312\\2929752747.py:2: LangChainDeprecationWarning: The method `Chain.run` was deprecated in langchain 0.1.0 and will be removed in 1.0. Use :meth:`~invoke` instead.\n",
      "  chain.run(product)\n"
     ]
    },
    {
     "data": {
      "text/plain": [
       "'The Waterproof Phone Pouch is a must-have accessory for anyone who enjoys spending time near water or in unpredictable weather conditions. This innovative product is designed to keep your phone safe and dry, allowing you to take photos, make calls, or access your apps without worrying about water damage.\\n\\nCommon uses for the Waterproof Phone Pouch include taking it to the beach, pool, water park, on a boat, or during outdoor activities such as hiking or camping. It is also great for everyday use, providing protection against accidental spills or rain showers.\\n\\nKey features that customers might look for in a Waterproof Phone Pouch include a secure seal to keep water out, a transparent window that allows for full touchscreen functionality, adjustable straps for a comfortable fit, and compatibility with various phone sizes. Some pouches may also come with additional features such as a built-in lanyard for easy carrying or a secure closure mechanism.\\n\\nPotential benefits of using a Waterproof Phone Pouch include peace of mind knowing that your phone is protected from water damage, the convenience of being able to use your phone in wet or outdoor conditions, and the ability to capture memories without worrying about ruining your device. Additionally, the pouch can also protect your phone from dirt, sand, or snow, extending the life of your device.\\n\\nOverall, the Waterproof Phone Pouch is a practical and versatile accessory that offers both protection and convenience for anyone who wants to keep their phone safe and functional in various environments.'"
      ]
     },
     "execution_count": 13,
     "metadata": {},
     "output_type": "execute_result"
    }
   ],
   "source": [
    "product =  \"Waterproof Phone Pouch\" \n",
    "chain.run(product)"
   ]
  },
  {
   "cell_type": "markdown",
   "id": "69b03469",
   "metadata": {},
   "source": [
    "## SimpleSequentialChain"
   ]
  },
  {
   "cell_type": "code",
   "execution_count": 8,
   "id": "febee243",
   "metadata": {},
   "outputs": [],
   "source": [
    "from langchain.chains import SimpleSequentialChain"
   ]
  },
  {
   "cell_type": "code",
   "execution_count": 9,
   "id": "2f31aa8a",
   "metadata": {},
   "outputs": [],
   "source": [
    "llm = ChatOpenAI(temperature=0.9)\n",
    "\n",
    "# prompt template 1\n",
    "first_prompt = ChatPromptTemplate.from_template(\n",
    "     \"You are a product specialist. Given the product name {product}, generate a detailed marketing description that highlights its key features, benefits, and potential use cases. Be creative but realistic.\"\n",
    ")\n",
    "\n",
    "# Chain 1\n",
    "chain_one = LLMChain(llm=llm, prompt=first_prompt)"
   ]
  },
  {
   "cell_type": "code",
   "execution_count": 11,
   "id": "3f5d5b76",
   "metadata": {},
   "outputs": [],
   "source": [
    "\n",
    "# prompt template 2\n",
    "second_prompt = ChatPromptTemplate.from_template(\n",
    "    \"You are a customer review analyst. Based on the following product marketing description: {input}, generate a realistic customer review that includes both positive aspects and constructive criticism. The review should be written from a customer's perspective who has used the product for at least 2 weeks.\"\n",
    ")\n",
    "# chain 2\n",
    "chain_two = LLMChain(llm=llm, prompt=second_prompt)"
   ]
  },
  {
   "cell_type": "code",
   "execution_count": 12,
   "id": "6c1eb2c4",
   "metadata": {},
   "outputs": [],
   "source": [
    "overall_simple_chain = SimpleSequentialChain(chains=[chain_one, chain_two],\n",
    "                                             verbose=True\n",
    "                                            )"
   ]
  },
  {
   "cell_type": "code",
   "execution_count": 19,
   "id": "78458efe",
   "metadata": {},
   "outputs": [
    {
     "name": "stdout",
     "output_type": "stream",
     "text": [
      "\n",
      "\n",
      "\u001b[1m> Entering new SimpleSequentialChain chain...\u001b[0m\n",
      "\u001b[36;1m\u001b[1;3mIntroducing the ultimate solution for protecting your phone from water damage - the Waterproof Phone Pouch!\n",
      "\n",
      "Our Waterproof Phone Pouch is a must-have accessory for anyone who enjoys outdoor activities such as hiking, swimming, snorkeling, or even just lounging by the pool. Made from high-quality, durable materials, this pouch is designed to keep your phone safe and dry in any wet environment.\n",
      "\n",
      "Key features of the Waterproof Phone Pouch include a secure, airtight closure that ensures your phone stays dry even when submerged in water. The transparent front window allows you to easily operate your phone's touchscreen, camera, and other functions without having to remove it from the pouch. The pouch also includes a convenient neck strap for easy carrying and quick access to your phone.\n",
      "\n",
      "But the benefits don't stop there! In addition to protecting your phone from water damage, the Waterproof Phone Pouch also offers protection from dirt, dust, snow, and even sand, making it the perfect accessory for all your outdoor adventures.\n",
      "\n",
      "Imagine being able to capture stunning underwater photos and videos without the worry of damaging your phone. Or being able to take calls and listen to music while relaxing on the beach without the fear of water splashes ruining your device. With the Waterproof Phone Pouch, the possibilities are endless.\n",
      "\n",
      "Say goodbye to bulky, unsightly phone cases and hello to the sleek, functional design of the Waterproof Phone Pouch. Keep your phone safe and dry wherever your adventures take you. Don't let water ruin your day - get your Waterproof Phone Pouch today!\u001b[0m\n",
      "\u001b[33;1m\u001b[1;3mAs an avid hiker and outdoor enthusiast, I recently purchased the Waterproof Phone Pouch to protect my phone during my adventures. I must say, I am thoroughly impressed with the quality and functionality of this product.\n",
      "\n",
      "The airtight closure truly does keep my phone dry even when submerged in water, allowing me to confidently take it with me while swimming or snorkeling. The transparent front window is a game-changer, as I can easily operate my phone's touchscreen and camera without any hassle. The included neck strap is also a convenient feature, making it easy to carry and access my phone on the go.\n",
      "\n",
      "I have taken some amazing underwater photos and videos with my phone safely tucked away in the Waterproof Phone Pouch, without any fear of water damage. It has also protected my device from dirt, dust, and sand, which is a huge relief when I'm out in nature.\n",
      "\n",
      "However, there is one small downside I have noticed after using the pouch for a couple of weeks. While the pouch is effective at keeping my phone dry, it can be a bit cumbersome to use for long periods of time. The touchscreen sensitivity is slightly reduced, making it a bit challenging to navigate through apps at times.\n",
      "\n",
      "Overall, I am extremely happy with my purchase of the Waterproof Phone Pouch. It has provided me with peace of mind knowing that my phone is safe and protected during all of my outdoor activities. I would highly recommend this product to anyone who wants to keep their phone safe from water damage while enjoying the great outdoors.\u001b[0m\n",
      "\n",
      "\u001b[1m> Finished chain.\u001b[0m\n"
     ]
    },
    {
     "data": {
      "text/plain": [
       "\"As an avid hiker and outdoor enthusiast, I recently purchased the Waterproof Phone Pouch to protect my phone during my adventures. I must say, I am thoroughly impressed with the quality and functionality of this product.\\n\\nThe airtight closure truly does keep my phone dry even when submerged in water, allowing me to confidently take it with me while swimming or snorkeling. The transparent front window is a game-changer, as I can easily operate my phone's touchscreen and camera without any hassle. The included neck strap is also a convenient feature, making it easy to carry and access my phone on the go.\\n\\nI have taken some amazing underwater photos and videos with my phone safely tucked away in the Waterproof Phone Pouch, without any fear of water damage. It has also protected my device from dirt, dust, and sand, which is a huge relief when I'm out in nature.\\n\\nHowever, there is one small downside I have noticed after using the pouch for a couple of weeks. While the pouch is effective at keeping my phone dry, it can be a bit cumbersome to use for long periods of time. The touchscreen sensitivity is slightly reduced, making it a bit challenging to navigate through apps at times.\\n\\nOverall, I am extremely happy with my purchase of the Waterproof Phone Pouch. It has provided me with peace of mind knowing that my phone is safe and protected during all of my outdoor activities. I would highly recommend this product to anyone who wants to keep their phone safe from water damage while enjoying the great outdoors.\""
      ]
     },
     "execution_count": 19,
     "metadata": {},
     "output_type": "execute_result"
    }
   ],
   "source": [
    "overall_simple_chain.run(product)"
   ]
  },
  {
   "cell_type": "markdown",
   "id": "0dd59bda-9d02-44e7-b3d6-2bec61b99d8f",
   "metadata": {},
   "source": [
    "**Repeat the above twice for different products**"
   ]
  },
  {
   "cell_type": "code",
   "execution_count": 13,
   "id": "e3360315",
   "metadata": {},
   "outputs": [
    {
     "name": "stderr",
     "output_type": "stream",
     "text": [
      "C:\\Users\\tiago\\AppData\\Local\\Temp\\ipykernel_27988\\2129557193.py:2: LangChainDeprecationWarning: The method `Chain.run` was deprecated in langchain 0.1.0 and will be removed in 1.0. Use :meth:`~invoke` instead.\n",
      "  chain.run(product)\n"
     ]
    },
    {
     "data": {
      "text/plain": [
       "\"The Queen Size Sheet Set is a luxurious bedding essential that includes a flat sheet, fitted sheet, and two pillowcases specifically designed to fit a queen-sized bed. Made from high-quality materials such as cotton, microfiber, or bamboo, these sheet sets are known for their softness, durability, and breathability.\\n\\nCommon uses for the Queen Size Sheet Set include dressing up your bed for a good night's sleep, adding a touch of elegance to your bedroom decor, and providing a comfortable resting place for you and your loved ones. These sheet sets are perfect for everyday use and can also be used for guest rooms, vacation homes, and Airbnb rentals.\\n\\nKey features that customers might look for in a Queen Size Sheet Set include deep pockets on the fitted sheet to accommodate thicker mattresses, wrinkle-resistant fabric for easy care and maintenance, and a variety of colors and patterns to suit different tastes and preferences. Some sheet sets may also come with additional pillowcases or bonus items such as a bed skirt or decorative throw pillows.\\n\\nPotential benefits of investing in a Queen Size Sheet Set include a more restful and comfortable sleep experience, improved overall bedroom aesthetics, and the convenience of having a complete bedding set that matches and coordinates effortlessly. With the right sheet set, you can transform your bedroom into a cozy sanctuary where you can relax and unwind after a long day.\""
      ]
     },
     "execution_count": 13,
     "metadata": {},
     "output_type": "execute_result"
    }
   ],
   "source": [
    "product =  \"Queen Size Sheet Set\" \n",
    "chain.run(product)"
   ]
  },
  {
   "cell_type": "code",
   "execution_count": 14,
   "id": "21c36f24",
   "metadata": {},
   "outputs": [
    {
     "name": "stdout",
     "output_type": "stream",
     "text": [
      "\n",
      "\n",
      "\u001b[1m> Entering new SimpleSequentialChain chain...\u001b[0m\n",
      "\u001b[36;1m\u001b[1;3mIntroducing our luxurious Queen Size Sheet Set, the perfect addition to your bedroom for a comfortable and stylish upgrade. \n",
      "\n",
      "Crafted from high-quality, ultra-soft microfiber material, this sheet set is designed to provide a night of blissful sleep. The set includes a flat sheet, fitted sheet, and two pillowcases, all tailored to fit a standard queen-sized bed perfectly.\n",
      "\n",
      "The key features of our Queen Size Sheet Set include:\n",
      "- Deep pockets on the fitted sheet to ensure a secure fit on mattresses up to 16 inches deep\n",
      "- Wrinkle-resistant fabric for a smooth and crisp look every time\n",
      "- Easy care and maintenance, machine washable and tumble dry on low heat\n",
      "\n",
      "Experience the benefits of our Queen Size Sheet Set:\n",
      "- Superior comfort and softness against your skin, promoting a restful night's sleep\n",
      "- Durable and long-lasting, providing exceptional value for your investment\n",
      "- Versatile design that complements any bedroom decor, adding a touch of elegance and sophistication\n",
      "\n",
      "Ideal for use in a variety of settings, from your own bedroom to guest rooms or vacation homes, our Queen Size Sheet Set is a must-have for anyone seeking a touch of luxury in their sleep routine.\n",
      "\n",
      "Upgrade your bedding experience with our Queen Size Sheet Set and transform your bedroom into a cozy oasis of relaxation and style. Indulge in the comfort and quality of our premium sheets and enjoy a peaceful night's sleep every night.\u001b[0m\n",
      "\u001b[33;1m\u001b[1;3mI recently purchased the Queen Size Sheet Set and I have been extremely pleased with the quality and comfort it provides. The microfiber material is incredibly soft against my skin and has definitely improved the quality of my sleep. The deep pockets on the fitted sheet ensure a secure fit on my mattress, which is a great feature. The wrinkle-resistant fabric is a nice touch and keeps the sheets looking smooth and crisp.\n",
      "\n",
      "One of the best things about this sheet set is how easy it is to care for. I appreciate that they are machine washable and can be tumble dried on low heat, which makes maintenance a breeze. The set is also durable and has held up well after multiple washes, which is a definite plus.\n",
      "\n",
      "While I love the comfort and quality of these sheets, I have noticed that they tend to get a bit warm during the night. This could be due to the microfiber material, which is very soft but may not be as breathable as other fabrics. I would love to see a version of this sheet set in a more breathable material for those who tend to sleep hot.\n",
      "\n",
      "Overall, I would highly recommend the Queen Size Sheet Set to anyone looking to upgrade their bedding. The comfort, durability, and style make it a great investment for a cozy and stylish bedroom.\u001b[0m\n",
      "\n",
      "\u001b[1m> Finished chain.\u001b[0m\n"
     ]
    },
    {
     "data": {
      "text/plain": [
       "'I recently purchased the Queen Size Sheet Set and I have been extremely pleased with the quality and comfort it provides. The microfiber material is incredibly soft against my skin and has definitely improved the quality of my sleep. The deep pockets on the fitted sheet ensure a secure fit on my mattress, which is a great feature. The wrinkle-resistant fabric is a nice touch and keeps the sheets looking smooth and crisp.\\n\\nOne of the best things about this sheet set is how easy it is to care for. I appreciate that they are machine washable and can be tumble dried on low heat, which makes maintenance a breeze. The set is also durable and has held up well after multiple washes, which is a definite plus.\\n\\nWhile I love the comfort and quality of these sheets, I have noticed that they tend to get a bit warm during the night. This could be due to the microfiber material, which is very soft but may not be as breathable as other fabrics. I would love to see a version of this sheet set in a more breathable material for those who tend to sleep hot.\\n\\nOverall, I would highly recommend the Queen Size Sheet Set to anyone looking to upgrade their bedding. The comfort, durability, and style make it a great investment for a cozy and stylish bedroom.'"
      ]
     },
     "execution_count": 14,
     "metadata": {},
     "output_type": "execute_result"
    }
   ],
   "source": [
    "overall_simple_chain.run(product)"
   ]
  },
  {
   "cell_type": "code",
   "execution_count": 15,
   "id": "3155210b",
   "metadata": {},
   "outputs": [
    {
     "name": "stdout",
     "output_type": "stream",
     "text": [
      "\n",
      "\n",
      "\u001b[1m> Entering new SimpleSequentialChain chain...\u001b[0m\n",
      "\u001b[36;1m\u001b[1;3mIntroducing the ultimate in comfort and luxury - the Luxury Air Mattress. This premium inflatable mattress is designed to provide a superior sleeping experience wherever you go. \n",
      "\n",
      "Crafted with high-quality materials, the Luxury Air Mattress boasts a plush, flocked surface that feels soft and inviting to the touch. Its innovative design includes built-in air chambers that can be easily adjusted for personalized firmness, ensuring a restful night's sleep every time. \n",
      "\n",
      "Perfect for camping trips, overnight guests, or as a luxurious alternative to a traditional bed, the Luxury Air Mattress is versatile and convenient. Its compact size when deflated makes it easy to transport and store, while its quick inflation and deflation process means you can set up and pack away in no time. \n",
      "\n",
      "Say goodbye to uncomfortable sleeping surfaces and hello to a world of relaxation and rejuvenation with the Luxury Air Mattress. Whether you're hosting friends and family or seeking a comfortable night's rest under the stars, this deluxe inflatable mattress is your ticket to a good night's sleep. Invest in comfort, invest in the Luxury Air Mattress.\u001b[0m\n",
      "\u001b[33;1m\u001b[1;3mAs a customer who has used the Luxury Air Mattress for over two weeks, I can say that overall, I am quite satisfied with my purchase. The plush, flocked surface really does feel luxurious and inviting to the touch, making it a comfortable sleeping experience. The adjustable air chambers are a great feature, allowing me to customize the firmness to my liking for a restful night's sleep.\n",
      "\n",
      "I have used this air mattress for camping trips and hosting overnight guests, and it has proven to be versatile and convenient as advertised. The compact size when deflated makes it easy to transport and store, and the quick inflation and deflation process is a time-saver. Setting up and packing away the mattress is a breeze, which is definitely a plus for someone like me who is always on the go.\n",
      "\n",
      "However, there are a couple of constructive criticisms I have after using the Luxury Air Mattress for a few weeks. One issue I have noticed is that the mattress can be a bit noisy when shifting positions during the night. The material seems to make a crinkling sound, which can be a bit bothersome. Additionally, I have found that the mattress tends to lose air slightly overnight, requiring me to top it up before going to bed.\n",
      "\n",
      "Overall, I would recommend the Luxury Air Mattress for those looking for a comfortable and convenient sleeping solution. It definitely provides a better alternative to traditional air mattresses and offers a luxurious experience. With a few minor improvements, this mattress could be a top-notch product in its category.\u001b[0m\n",
      "\n",
      "\u001b[1m> Finished chain.\u001b[0m\n"
     ]
    },
    {
     "data": {
      "text/plain": [
       "\"As a customer who has used the Luxury Air Mattress for over two weeks, I can say that overall, I am quite satisfied with my purchase. The plush, flocked surface really does feel luxurious and inviting to the touch, making it a comfortable sleeping experience. The adjustable air chambers are a great feature, allowing me to customize the firmness to my liking for a restful night's sleep.\\n\\nI have used this air mattress for camping trips and hosting overnight guests, and it has proven to be versatile and convenient as advertised. The compact size when deflated makes it easy to transport and store, and the quick inflation and deflation process is a time-saver. Setting up and packing away the mattress is a breeze, which is definitely a plus for someone like me who is always on the go.\\n\\nHowever, there are a couple of constructive criticisms I have after using the Luxury Air Mattress for a few weeks. One issue I have noticed is that the mattress can be a bit noisy when shifting positions during the night. The material seems to make a crinkling sound, which can be a bit bothersome. Additionally, I have found that the mattress tends to lose air slightly overnight, requiring me to top it up before going to bed.\\n\\nOverall, I would recommend the Luxury Air Mattress for those looking for a comfortable and convenient sleeping solution. It definitely provides a better alternative to traditional air mattresses and offers a luxurious experience. With a few minor improvements, this mattress could be a top-notch product in its category.\""
      ]
     },
     "execution_count": 15,
     "metadata": {},
     "output_type": "execute_result"
    }
   ],
   "source": [
    "product =  \"Luxury Air Mattress\" \n",
    "overall_simple_chain.run(product)"
   ]
  },
  {
   "cell_type": "markdown",
   "id": "7b5ce18c",
   "metadata": {},
   "source": [
    "## SequentialChain"
   ]
  },
  {
   "cell_type": "code",
   "execution_count": 19,
   "id": "4c129ef6",
   "metadata": {},
   "outputs": [],
   "source": [
    "from langchain.chains import SequentialChain"
   ]
  },
  {
   "cell_type": "code",
   "execution_count": 20,
   "id": "016187ac",
   "metadata": {},
   "outputs": [],
   "source": [
    "llm = ChatOpenAI(temperature=0.9)\n",
    "\n",
    "\n",
    "first_prompt = ChatPromptTemplate.from_template(\n",
    "   \"You are a professional translator. Translate the following product review from English to Spanish. Maintain the tone, sentiment, and key points of the original review.\\n\\nReview: {review}\\n\\nTranslated Review:\"\n",
    ")\n",
    "\n",
    "chain_one = LLMChain(llm=llm, prompt=first_prompt, \n",
    "                     output_key=\"translated_review\" #Give a name to your output\n",
    "                    )\n"
   ]
  },
  {
   "cell_type": "code",
   "execution_count": 21,
   "id": "0fb0730e",
   "metadata": {},
   "outputs": [],
   "source": [
    "second_prompt = ChatPromptTemplate.from_template(\n",
    "   \"You are a data analyst specializing in customer feedback. Summarize the following translated product review in 2-3 concise bullet points. Focus on the key sentiment, main points of feedback, and any specific recommendations mentioned.\\n\\nTranslated Review: {translated_review}\\n\\nSummary:\"\n",
    ")\n",
    "\n",
    "chain_two = LLMChain(llm=llm, prompt=second_prompt, \n",
    "                     output_key=\"summary\"\n",
    "                    )\n"
   ]
  },
  {
   "cell_type": "code",
   "execution_count": 22,
   "id": "6accf92d",
   "metadata": {},
   "outputs": [],
   "source": [
    "# prompt template 3: translate to english or other language\n",
    "third_prompt = ChatPromptTemplate.from_template(\n",
    "     \"You are a professional translator. Translate the following review back to English. Maintain the professional tone while ensuring the translation is accurate and natural.\\n\\n Review: {translated_review}\\n\\nEnglish Translation:\"\n",
    ")\n",
    "# chain 3: input= Review and output= language\n",
    "chain_three = LLMChain(llm=llm, prompt=third_prompt,\n",
    "                       output_key=\"English_Review\"\n",
    "                      )\n"
   ]
  },
  {
   "cell_type": "code",
   "execution_count": 23,
   "id": "c7a46121",
   "metadata": {},
   "outputs": [],
   "source": [
    "\n",
    "# prompt template 4: follow up message that take as inputs the two previous prompts' variables\n",
    "fourth_prompt = ChatPromptTemplate.from_template(\n",
    "          \"You are a customer service representative for an e-commerce platform. Craft a personalized follow-up email to the customer who wrote a review. Use the information from both the summary and the English translation to show that you value their feedback.\\n\\nOriginal Review: {review}\\nSummary: {summary}\\nEnglish Translation: {English_Review}\\n\\nYour follow-up email should:\\n1. Thank the customer for their review\\n2. Address specific points they mentioned (based on the summaries)\\n3. Explain any actions being taken based on their feedback\\n4. Offer a small discount or incentive for their next purchase\\n\\nFollow-up Email:\"\n",
    ")\n",
    "chain_four = LLMChain(llm=llm, prompt=fourth_prompt,\n",
    "                      output_key=\"followup_message\"\n",
    "                     )\n"
   ]
  },
  {
   "cell_type": "code",
   "execution_count": 24,
   "id": "89603117",
   "metadata": {},
   "outputs": [],
   "source": [
    "# overall_chain: input= Review \n",
    "# and output= English_Review,summary, followup_message\n",
    "overall_chain = SequentialChain(\n",
    "    chains=[chain_one, chain_two, chain_three, chain_four],\n",
    "    input_variables=[\"review\"],\n",
    "    output_variables=[\"English_Review\", \"summary\", \"followup_message\"],\n",
    "    verbose=True\n",
    ")"
   ]
  },
  {
   "cell_type": "code",
   "execution_count": 49,
   "id": "51b04f45",
   "metadata": {},
   "outputs": [
    {
     "name": "stderr",
     "output_type": "stream",
     "text": [
      "C:\\Users\\tiago\\AppData\\Local\\Temp\\ipykernel_16312\\1992003631.py:2: LangChainDeprecationWarning: The method `Chain.__call__` was deprecated in langchain 0.1.0 and will be removed in 1.0. Use :meth:`~invoke` instead.\n",
      "  overall_chain(review)\n"
     ]
    },
    {
     "name": "stdout",
     "output_type": "stream",
     "text": [
      "\n",
      "\n",
      "\u001b[1m> Entering new SequentialChain chain...\u001b[0m\n",
      "\n",
      "\u001b[1m> Finished chain.\u001b[0m\n"
     ]
    },
    {
     "data": {
      "text/plain": [
       "{'review': \"Je trouve le goût médiocre. La mousse ne tient pas, c'est bizarre. J'achète les mêmes dans le commerce et le goût est bien meilleur...\\r\\nVieux lot ou contrefaçon !?\",\n",
       " 'English_Review': \"I find the flavor to be mediocre. The foam doesn't last, it's strange. I buy the same ones in stores and the flavor is much better... Old batch or counterfeit!?\",\n",
       " 'summary': \"- Reviewer finds the taste mediocre and notes that the foam doesn't last long, finding it strange.\\n- They suggest that the product might be from an old batch or could be a counterfeit, as they have purchased the same item from stores with a much better taste.\\n- Reviewer indicates disappointment and suspicion regarding the quality and authenticity of the product.\",\n",
       " 'followup_message': \"Subject: Thank you for your feedback on our product!\\n\\nDear [Customer's Name],\\n\\nThank you for taking the time to provide feedback on your recent purchase. We truly value your opinion and appreciate your honest review.\\n\\nI'm sorry to hear that you found the flavor of the product to be mediocre and that the foam didn't last as expected. We take quality control very seriously and are investigating whether there was an issue with the batch or if any counterfeit products have entered our supply chain.\\n\\nTo ensure our customers receive the best products possible, we are taking immediate action to address your concerns and prevent similar incidents in the future. Rest assured that we are working closely with our suppliers to investigate this matter further.\\n\\nAs a token of our appreciation for your feedback, we would like to offer you a discount of 10% on your next purchase. Simply use the code THANKYOU10 at checkout to redeem your discount.\\n\\nWe hope you will give us another chance to provide you with a better experience. If you have any further feedback or concerns, please don't hesitate to reach out to us.\\n\\nThank you again for your valuable input, and we look forward to serving you better in the future.\\n\\nWarm regards,\\n\\n[Your Name]\\nCustomer Service Team\\n[Your E-commerce Platform]\"}"
      ]
     },
     "execution_count": 49,
     "metadata": {},
     "output_type": "execute_result"
    }
   ],
   "source": [
    "review = df.Review[5]\n",
    "overall_chain(review)"
   ]
  },
  {
   "cell_type": "markdown",
   "id": "3187cf07-458a-4226-bec7-3dec7ee47af2",
   "metadata": {},
   "source": [
    "**Repeat the above twice for different products or reviews**"
   ]
  },
  {
   "cell_type": "code",
   "execution_count": 25,
   "id": "9fcf46a6",
   "metadata": {},
   "outputs": [
    {
     "name": "stderr",
     "output_type": "stream",
     "text": [
      "C:\\Users\\tiago\\AppData\\Local\\Temp\\ipykernel_27988\\2538917207.py:2: LangChainDeprecationWarning: The method `Chain.__call__` was deprecated in langchain 0.1.0 and will be removed in 1.0. Use :meth:`~invoke` instead.\n",
      "  overall_chain(review)\n"
     ]
    },
    {
     "name": "stdout",
     "output_type": "stream",
     "text": [
      "\n",
      "\n",
      "\u001b[1m> Entering new SequentialChain chain...\u001b[0m\n",
      "\n",
      "\u001b[1m> Finished chain.\u001b[0m\n"
     ]
    },
    {
     "data": {
      "text/plain": [
       "{'review': \"This mattress had a small hole in the top of it (took forever to find where it was), and the patches that they provide did not work, maybe because it's the top of the mattress where it's kind of like fabric and a patch won't stick. Maybe I got unlucky with a defective mattress, but where's quality assurance for this company? That flat out should not happen. Emphasis on flat. Cause that's what the mattress was. Seriously horrible experience, ruined my friend's stay with me. Then they make you ship it back instead of just providing a refund, which is also super annoying to pack up an air mattress and take it to the UPS store. This company is the worst, and this mattress is the worst.\",\n",
       " 'English_Review': \"This mattress had a small hole at the top (it took me forever to find where it was), and the patches they provided did not work, maybe because it is the top part of the mattress where it is something like fabric and a patch does not adhere. Maybe I was unlucky with a defective mattress, but where is the quality control of this company? That simply should not happen. Emphasis on flat. Because that's what the mattress was. A really horrible experience, it ruined my friend's stay with me. Then they make you return it instead of simply offering a refund, which is also super annoying to have to pack up an air mattress and take it to the UPS store. This company is the worst, and this mattress is the worst.\",\n",
       " 'summary': '- Customer experienced frustration with a small hole in the top of the mattress and found the patch provided ineffective\\n- Expresses disappointment in the quality control of the company and the inconvenience of having to return the faulty product\\n- Recommends offering refunds instead of requiring customers to return defective items, and suggests improvement in quality assurance processes',\n",
       " 'followup_message': 'Subject: Thank you for your valuable feedback\\n\\nDear [Customer],\\n\\nThank you for taking the time to share your experience with us regarding your recent purchase of the mattress. We truly appreciate your feedback as it helps us improve our products and services for all our customers.\\n\\nWe are sincerely sorry to hear about the frustration you experienced with the small hole in the mattress and the ineffective patches provided. Quality control is of utmost importance to us, and we are currently investigating this particular issue to ensure it does not happen again in the future.\\n\\nRegarding the inconvenience of having to return the mattress, we understand your frustration and are looking into ways to streamline our return process, including offering refunds for defective items without the need for return shipping.\\n\\nAs a gesture of our gratitude for your feedback and to make up for the inconvenience you faced, we would like to offer you a [X]% discount on your next purchase with us. Simply use the code [DISCOUNTCODE] at checkout to redeem your discount.\\n\\nWe value you as a customer and hope to have the opportunity to provide you with a better shopping experience in the future.\\n\\nThank you once again for your honest review.\\n\\nWarm regards,\\n\\n[Your Name]\\nCustomer Service Team\\n[Your E-commerce Platform]'}"
      ]
     },
     "execution_count": 25,
     "metadata": {},
     "output_type": "execute_result"
    }
   ],
   "source": [
    "review = df.Review[2]\n",
    "overall_chain(review)"
   ]
  },
  {
   "cell_type": "code",
   "execution_count": 26,
   "id": "7f4d7419",
   "metadata": {},
   "outputs": [
    {
     "name": "stdout",
     "output_type": "stream",
     "text": [
      "\n",
      "\n",
      "\u001b[1m> Entering new SequentialChain chain...\u001b[0m\n",
      "\n",
      "\u001b[1m> Finished chain.\u001b[0m\n"
     ]
    },
    {
     "data": {
      "text/plain": [
       "{'review': 'This is the best throw pillow fillers on Amazon. I’ve tried several others, and they’re all cheap and flat no matter how much fluffing you do. Once you toss these in the dryer after you remove them from the vacuum sealed shipping material, they fluff up great',\n",
       " 'English_Review': 'This is the best cushion filling on Amazon. I have tried several others and they are all cheap and flat no matter how much I fluff them. Once you put them in the dryer after taking them out of the vacuum-sealed shipping material, they fluff up very nicely.',\n",
       " 'summary': '- The reviewer believes these are the best cushion fillers on Amazon, noting that other options they have tried were cheap and flat no matter how much they fluffed them.\\n- They mention that the fillers fluff up well after being put in the dryer following removal from the vacuum-sealed shipping material.\\n- The reviewer recommends putting the cushion fillers in the dryer after opening them from the vacuum-sealed packaging to help them fluff up effectively.',\n",
       " 'followup_message': \"Subject: Thank You for Your Feedback - Enjoy a Special Discount on Your Next Purchase!\\n\\nDear [Customer's Name],\\n\\nI hope this email finds you well. I wanted to take a moment to thank you for taking the time to leave a review of our cushion fillers on Amazon. Your feedback is truly valuable to us and helps us ensure that we are providing the best products and service to our customers.\\n\\nI'm thrilled to hear that you believe our cushion fillers are the best on Amazon and that they fluff up nicely after being put in the dryer. Your tip about removing them from the vacuum-sealed shipping material before fluffing them is fantastic and we will be sure to include that in our product instructions moving forward.\\n\\nAs a token of our appreciation for your feedback, I would like to offer you a special discount of 10% off your next purchase. Simply use the code THANKYOU10 at checkout to redeem your discount.\\n\\nThank you once again for your support and for choosing us for your cushion filling needs. If you have any further feedback or questions, please don't hesitate to reach out to us.\\n\\nWe look forward to serving you again soon!\\n\\nWarm regards,\\n\\n[Your Name]\\nCustomer Service Representative\\n[Your Company Name]\"}"
      ]
     },
     "execution_count": 26,
     "metadata": {},
     "output_type": "execute_result"
    }
   ],
   "source": [
    "review = df.Review[3]\n",
    "overall_chain(review)"
   ]
  },
  {
   "cell_type": "code",
   "execution_count": 27,
   "id": "e5863dee",
   "metadata": {},
   "outputs": [
    {
     "name": "stdout",
     "output_type": "stream",
     "text": [
      "\n",
      "\n",
      "\u001b[1m> Entering new SequentialChain chain...\u001b[0m\n",
      "\n",
      "\u001b[1m> Finished chain.\u001b[0m\n"
     ]
    },
    {
     "data": {
      "text/plain": [
       "{'review': \"\\xa0I loved this product. But they only seem to last a few months. The company was great replacing the first one (the frother falls out of the handle and can't be fixed). The after 4 months my second one did the same. I only use the frother for coffee once a day. It's not overuse or abuse. I'm very disappointed and will look for another. As I understand they will only replace once. Anyway, if you have one good luck.\",\n",
       " 'English_Review': \"I loved this product. But it seems that they only last a few months. The company was great in replacing the first one (the frother falls off the handle and cannot be fixed). After 4 months, my second one also did the same. I only use the frother for coffee once a day. It's not excessive use or abuse. I am very disappointed and will look for another one. From what I understand, they will only replace it once. Anyway, if you have one, good luck!\",\n",
       " 'summary': '- The reviewer loved the product initially but found that it only lasted a few months before breaking.\\n- The company was great at replacing the first product, but the same issue occurred with the replacement after 4 months of daily use for coffee.\\n- The reviewer is disappointed and will be looking for another product, as they understand the company will only replace it once.',\n",
       " 'followup_message': \"Subject: Thank you for your feedback and loyalty\\n\\nDear [Customer],\\n\\nThank you for taking the time to share your feedback with us. We truly value your opinion and are sorry to hear about the issues you experienced with our product.\\n\\nWe are glad to hear that you loved the product initially, and we apologize for the inconvenience caused by the frother not lasting as long as expected. Your satisfaction is our top priority, and we are constantly working to improve our products based on customer feedback.\\n\\nIn response to your concerns, we are reviewing the quality of our frothers to ensure that they meet our customers' expectations for durability. We are also looking into ways to extend our replacement policy to better accommodate instances like yours.\\n\\nAs a token of our appreciation for your loyalty, we would like to offer you a 10% discount on your next purchase with us. Simply use the code [DISCOUNTCODE] at checkout to redeem your discount.\\n\\nWe hope you will consider giving us another chance and trying out our products again. Please do not hesitate to contact us if you have any further questions or need assistance.\\n\\nThank you once again for your valuable feedback and for being a loyal customer. We look forward to serving you again soon.\\n\\nBest regards,\\n\\n[Your Name]\\nCustomer Service Team\\n[Company Name]\"}"
      ]
     },
     "execution_count": 27,
     "metadata": {},
     "output_type": "execute_result"
    }
   ],
   "source": [
    "review = df.Review[4]\n",
    "overall_chain(review)"
   ]
  },
  {
   "cell_type": "markdown",
   "id": "3041ea4c",
   "metadata": {},
   "source": [
    "## Router Chain"
   ]
  },
  {
   "cell_type": "code",
   "execution_count": 37,
   "id": "ade83f4f",
   "metadata": {},
   "outputs": [],
   "source": [
    "physics_template = \"\"\"You are a very smart physics professor. \\\n",
    "You are great at answering questions about physics in a concise\\\n",
    "and easy to understand manner. \\\n",
    "When you don't know the answer to a question you admit\\\n",
    "that you don't know.\n",
    "\n",
    "Here is a question:\n",
    "{input}\"\"\"\n",
    "\n",
    "\n",
    "math_template = \"\"\"You are a very good mathematician. \\\n",
    "You are great at answering math questions. \\\n",
    "You are so good because you are able to break down \\\n",
    "hard problems into their component parts, \n",
    "answer the component parts, and then put them together\\\n",
    "to answer the broader question.\n",
    "\n",
    "Here is a question:\n",
    "{input}\"\"\"\n",
    "\n",
    "history_template = \"\"\"You are a very good historian. \\\n",
    "You have an excellent knowledge of and understanding of people,\\\n",
    "events and contexts from a range of historical periods. \\\n",
    "You have the ability to think, reflect, debate, discuss and \\\n",
    "evaluate the past. You have a respect for historical evidence\\\n",
    "and the ability to make use of it to support your explanations \\\n",
    "and judgements.\n",
    "\n",
    "Here is a question:\n",
    "{input}\"\"\"\n",
    "\n",
    "\n",
    "computerscience_template = \"\"\" You are a successful computer scientist.\\\n",
    "You have a passion for creativity, collaboration,\\\n",
    "forward-thinking, confidence, strong problem-solving capabilities,\\\n",
    "understanding of theories and algorithms, and excellent communication \\\n",
    "skills. You are great at answering coding questions. \\\n",
    "You are so good because you know how to solve a problem by \\\n",
    "describing the solution in imperative steps \\\n",
    "that a machine can easily interpret and you know how to \\\n",
    "choose a solution that has a good balance between \\\n",
    "time complexity and space complexity. \n",
    "\n",
    "Here is a question:\n",
    "{input}\"\"\""
   ]
  },
  {
   "cell_type": "code",
   "execution_count": 60,
   "id": "5f590e9f",
   "metadata": {},
   "outputs": [],
   "source": [
    "prompt_infos = [\n",
    "    {\n",
    "        \"name\": \"physics\", \n",
    "        \"description\": \"Good for answering questions about physics\", \n",
    "        \"prompt_template\": physics_template\n",
    "    },\n",
    "    {\n",
    "        \"name\": \"math\", \n",
    "        \"description\": \"Good for answering math questions\", \n",
    "        \"prompt_template\": math_template\n",
    "    },\n",
    "    {\n",
    "        \"name\": \"history\", \n",
    "        \"description\": \"Good for answering history questions\", \n",
    "        \"prompt_template\": history_template\n",
    "    },\n",
    "    {\n",
    "        \"name\": \"computer science\", \n",
    "        \"description\": \"Good for answering computer science questions\", \n",
    "        \"prompt_template\": computerscience_template\n",
    "    }\n",
    "]"
   ]
  },
  {
   "cell_type": "code",
   "execution_count": 42,
   "id": "31b06fc8",
   "metadata": {},
   "outputs": [],
   "source": [
    "from langchain.chains.router import MultiPromptChain\n",
    "from langchain.chains.router.llm_router import LLMRouterChain,RouterOutputParser\n",
    "from langchain.prompts import PromptTemplate"
   ]
  },
  {
   "cell_type": "code",
   "execution_count": 53,
   "id": "f3f50bcc",
   "metadata": {},
   "outputs": [],
   "source": [
    "llm = ChatOpenAI(temperature=0)"
   ]
  },
  {
   "cell_type": "code",
   "execution_count": 34,
   "id": "8eefec24",
   "metadata": {},
   "outputs": [],
   "source": [
    "destination_chains = {}\n",
    "for p_info in prompt_infos:\n",
    "    name = p_info[\"name\"]\n",
    "    prompt_template = p_info[\"prompt_template\"]\n",
    "    prompt = ChatPromptTemplate.from_template(template=prompt_template)\n",
    "    chain = LLMChain(llm=llm, prompt=prompt)\n",
    "    destination_chains[name] = chain  \n",
    "    \n",
    "destinations = [f\"{p['name']}: {p['description']}\" for p in prompt_infos]\n",
    "destinations_str = \"\\n\".join(destinations)"
   ]
  },
  {
   "cell_type": "code",
   "execution_count": 55,
   "id": "9f98018a",
   "metadata": {},
   "outputs": [],
   "source": [
    "default_prompt = ChatPromptTemplate.from_template(\"{input}\")\n",
    "default_chain = LLMChain(llm=llm, prompt=default_prompt)"
   ]
  },
  {
   "cell_type": "code",
   "execution_count": 65,
   "id": "11b2e2ba",
   "metadata": {},
   "outputs": [],
   "source": [
    "MULTI_PROMPT_ROUTER_TEMPLATE = \"\"\"Given a raw text input to a \\\n",
    "language model select the model prompt best suited for the input. \\\n",
    "You will be given the names of the available prompts and a \\\n",
    "description of what the prompt is best suited for. \\\n",
    "You may also revise the original input if you think that revising\\\n",
    "it will ultimately lead to a better response from the language model.\n",
    "\n",
    "<< FORMATTING >>\n",
    "Return a markdown code snippet with a JSON object formatted to look like:\n",
    "```json\n",
    "{{{{\n",
    "    \"destination\": string \\ name of the prompt to use or \"DEFAULT\"\n",
    "    \"next_inputs\": string \\ a potentially modified version of the original input\n",
    "}}}}\n",
    "```\n",
    "\n",
    "MUST BE ONE OF THE EXACT CANDIDATE PROMPT\n",
    "NAMES LISTED BELOW. If the input does not match any of the candidate prompts,\\\n",
    "you MUST use \"DEFAULT\" as the destination.\\\n",
    "REMEMBER: \"next_inputs\" can just be the original input \\\n",
    "if you don't think any modifications are needed.\n",
    "\n",
    "<< CANDIDATE PROMPTS >>\n",
    "{destinations}\n",
    "\n",
    "<< INPUT >>\n",
    "{{input}}\n",
    "\n",
    "<< OUTPUT (remember to include the ```json)>>\"\"\""
   ]
  },
  {
   "cell_type": "code",
   "execution_count": 66,
   "id": "1387109d",
   "metadata": {},
   "outputs": [],
   "source": [
    "router_template = MULTI_PROMPT_ROUTER_TEMPLATE.format(\n",
    "    destinations=destinations_str\n",
    ")\n",
    "router_prompt = PromptTemplate(\n",
    "    template=router_template,\n",
    "    input_variables=[\"input\"],\n",
    "    output_parser=RouterOutputParser(),\n",
    ")\n",
    "\n",
    "router_chain = LLMRouterChain.from_llm(llm, router_prompt)"
   ]
  },
  {
   "cell_type": "code",
   "execution_count": 67,
   "id": "2fb7d560",
   "metadata": {},
   "outputs": [],
   "source": [
    "chain = MultiPromptChain(router_chain=router_chain, \n",
    "                         destination_chains=destination_chains, \n",
    "                         default_chain=default_chain, verbose=True\n",
    "                        )"
   ]
  },
  {
   "cell_type": "code",
   "execution_count": 53,
   "id": "d86b2131",
   "metadata": {},
   "outputs": [
    {
     "name": "stdout",
     "output_type": "stream",
     "text": [
      "\n",
      "\n",
      "\u001b[1m> Entering new MultiPromptChain chain...\u001b[0m\n",
      "physics: {'input': 'What is black body radiation?'}\n",
      "\u001b[1m> Finished chain.\u001b[0m\n"
     ]
    },
    {
     "data": {
      "text/plain": [
       "'Black body radiation refers to the electromagnetic radiation that is emitted from a perfect absorber and emitter of radiation, known as a black body. A black body absorbs all radiation that falls on it and emits radiation across the entire electromagnetic spectrum. The spectrum of black body radiation depends only on its temperature, with hotter objects emitting more radiation at shorter wavelengths.\\n\\nIn simpler terms, black body radiation is the radiation emitted by an object that absorbs all incoming radiation and then re-emits it. This concept is important in understanding the behavior of objects at different temperatures and is a key concept in the field of thermodynamics and quantum mechanics.'"
      ]
     },
     "execution_count": 53,
     "metadata": {},
     "output_type": "execute_result"
    }
   ],
   "source": [
    "chain.run(\"What is black body radiation?\")"
   ]
  },
  {
   "cell_type": "code",
   "execution_count": 48,
   "id": "3b717379",
   "metadata": {},
   "outputs": [
    {
     "name": "stdout",
     "output_type": "stream",
     "text": [
      "\n",
      "\n",
      "\u001b[1m> Entering new MultiPromptChain chain...\u001b[0m\n",
      "math: {'input': 'what is 2 + 2'}\n",
      "\u001b[1m> Finished chain.\u001b[0m\n"
     ]
    },
    {
     "data": {
      "text/plain": [
       "'The answer to 2 + 2 is 4.'"
      ]
     },
     "execution_count": 48,
     "metadata": {},
     "output_type": "execute_result"
    }
   ],
   "source": [
    "chain.run(\"what is 2 + 2\")"
   ]
  },
  {
   "cell_type": "code",
   "execution_count": 68,
   "id": "29e5be01",
   "metadata": {},
   "outputs": [
    {
     "name": "stdout",
     "output_type": "stream",
     "text": [
      "\n",
      "\n",
      "\u001b[1m> Entering new MultiPromptChain chain...\u001b[0m\n",
      "None: {'input': 'Why does every cell in our body contain DNA?'}\n",
      "\u001b[1m> Finished chain.\u001b[0m\n"
     ]
    },
    {
     "data": {
      "text/plain": [
       "\"Every cell in our body contains DNA because it carries the genetic instructions and information necessary for the development, functioning, growth, and reproduction of an organism. DNA is a molecule that contains the genetic code, or blueprint, for an organism, and it is responsible for determining an individual's traits, characteristics, and overall genetic makeup. This genetic information is essential for the proper functioning and regulation of cellular processes, as well as for the transmission of genetic material from one generation to the next. Therefore, the presence of DNA in every cell ensures that the organism can maintain its genetic integrity and carry out its biological functions effectively.\""
      ]
     },
     "execution_count": 68,
     "metadata": {},
     "output_type": "execute_result"
    }
   ],
   "source": [
    "chain.run(\"Why does every cell in our body contain DNA?\")"
   ]
  },
  {
   "cell_type": "markdown",
   "id": "09e0c60b-7ae0-453e-9467-142d8dafee6e",
   "metadata": {},
   "source": [
    "**Repeat the above at least once for different inputs and chains executions - Be creative!**"
   ]
  },
  {
   "cell_type": "code",
   "execution_count": 69,
   "id": "170354c8",
   "metadata": {},
   "outputs": [
    {
     "name": "stdout",
     "output_type": "stream",
     "text": [
      "\n",
      "\n",
      "\u001b[1m> Entering new MultiPromptChain chain...\u001b[0m\n",
      "History: {'input': 'when did Napoleon arrive in Egypt?'}\n",
      "\u001b[1m> Finished chain.\u001b[0m\n"
     ]
    },
    {
     "data": {
      "text/plain": [
       "'Napoleon arrived in Egypt on July 1, 1798 as part of his military campaign to establish French control in the region and disrupt British trade routes to India.'"
      ]
     },
     "execution_count": 69,
     "metadata": {},
     "output_type": "execute_result"
    }
   ],
   "source": [
    "chain.run(\"when did Napoleon arrived in Egypt?\")"
   ]
  },
  {
   "cell_type": "code",
   "execution_count": 70,
   "id": "bf3fbb15",
   "metadata": {},
   "outputs": [
    {
     "name": "stdout",
     "output_type": "stream",
     "text": [
      "\n",
      "\n",
      "\u001b[1m> Entering new MultiPromptChain chain...\u001b[0m\n",
      "computer science: {'input': 'What is Json file?'}\n",
      "\u001b[1m> Finished chain.\u001b[0m\n"
     ]
    },
    {
     "data": {
      "text/plain": [
       "'A JSON file is a file that stores data in a structured format that is easy for both humans and machines to read and write. JSON stands for JavaScript Object Notation, and it is commonly used for transmitting data between a server and a web application. JSON files are lightweight, easy to parse, and widely used in web development for storing and transferring data. They consist of key-value pairs in a hierarchical structure, similar to how objects are represented in JavaScript.'"
      ]
     },
     "execution_count": 70,
     "metadata": {},
     "output_type": "execute_result"
    }
   ],
   "source": [
    "chain.run(\"What is Json file?\")"
   ]
  },
  {
   "cell_type": "code",
   "execution_count": 71,
   "id": "7952047d",
   "metadata": {},
   "outputs": [
    {
     "name": "stdout",
     "output_type": "stream",
     "text": [
      "\n",
      "\n",
      "\u001b[1m> Entering new MultiPromptChain chain...\u001b[0m\n",
      "physics: {'input': 'Is time traveling possible according to Albert Einstein?'}\n",
      "\u001b[1m> Finished chain.\u001b[0m\n"
     ]
    },
    {
     "data": {
      "text/plain": [
       "\"According to Albert Einstein's theory of relativity, time travel is theoretically possible. However, it would require traveling at speeds close to the speed of light or utilizing massive amounts of energy to create a wormhole. While the theory allows for the possibility of time travel, it has not been proven or achieved in practice.\""
      ]
     },
     "execution_count": 71,
     "metadata": {},
     "output_type": "execute_result"
    }
   ],
   "source": [
    "chain.run(\"Is time traveling possible acording to albert einstein?\")"
   ]
  },
  {
   "cell_type": "code",
   "execution_count": 72,
   "id": "4490d1b5",
   "metadata": {},
   "outputs": [
    {
     "name": "stdout",
     "output_type": "stream",
     "text": [
      "\n",
      "\n",
      "\u001b[1m> Entering new MultiPromptChain chain...\u001b[0m\n",
      "None: {'input': 'How to change a tire in my car?'}\n",
      "\u001b[1m> Finished chain.\u001b[0m\n"
     ]
    },
    {
     "data": {
      "text/plain": [
       "'1. Find a safe location to pull over, turn on your hazard lights, and park your car on a flat surface. Make sure the area is safe from traffic and close to the edge of the road.\\n\\n2. Use your car manual to locate the spare tire, jack, and lug wrench. These tools are usually located in the trunk or underneath the floor mat in the trunk.\\n\\n3. Loosen the lug nuts on the flat tire with the lug wrench but do not completely remove them yet.\\n\\n4. Place the jack under the frame of the car near the flat tire and raise the car until the flat tire is off the ground.\\n\\n5. Finish removing the lug nuts and pull the flat tire off the wheel studs.\\n\\n6. Place the spare tire onto the wheel studs and hand tighten the lug nuts onto the spare tire.\\n\\n7. Lower the car back down with the jack and remove the jack.\\n\\n8. Tighten the lug nuts with the lug wrench in a star pattern to ensure the spare tire is securely attached.\\n\\n9. Store the flat tire, jack, and lug wrench back in the trunk.\\n\\n10. Drive slowly to the nearest service station to get your flat tire repaired or replaced.'"
      ]
     },
     "execution_count": 72,
     "metadata": {},
     "output_type": "execute_result"
    }
   ],
   "source": [
    "chain.run(\"How to change a tire in my car?\")"
   ]
  }
 ],
 "metadata": {
  "kernelspec": {
   "display_name": "base",
   "language": "python",
   "name": "python3"
  },
  "language_info": {
   "codemirror_mode": {
    "name": "ipython",
    "version": 3
   },
   "file_extension": ".py",
   "mimetype": "text/x-python",
   "name": "python",
   "nbconvert_exporter": "python",
   "pygments_lexer": "ipython3",
   "version": "3.12.3"
  }
 },
 "nbformat": 4,
 "nbformat_minor": 5
}
